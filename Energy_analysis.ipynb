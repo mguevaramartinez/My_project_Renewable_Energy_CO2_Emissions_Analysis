{
 "cells": [
  {
   "cell_type": "markdown",
   "id": "67ddb34e-eea8-471e-8d59-f93bfa196811",
   "metadata": {},
   "source": [
    "<span style=\"color:magenta; font-weight:bold\">Import the necessary libraries</span>"
   ]
  },
  {
   "cell_type": "code",
   "execution_count": 3,
   "id": "2a14dbf3-1f43-4fd2-b502-07eec5075b38",
   "metadata": {},
   "outputs": [],
   "source": [
    "import pandas as pd\n",
    "import numpy as np\n",
    "import matplotlib.pyplot as plt"
   ]
  },
  {
   "cell_type": "markdown",
   "id": "279ed0b3-b505-47ec-972c-49a89a040efc",
   "metadata": {},
   "source": [
    "<span style=\"color:magenta; font-weight:bold\">Use Pandas to read the 2 dataframes (1st is the OWID_Energy Database and 2nd one is OWID_CO2 Database)</span>"
   ]
  },
  {
   "cell_type": "code",
   "execution_count": 6,
   "id": "edf72e0c-2a01-4f65-9d84-207b0274db29",
   "metadata": {},
   "outputs": [],
   "source": [
    "energy_df = pd.read_csv('./energy-data-master/owid-energy-data.csv', sep=',')"
   ]
  },
  {
   "cell_type": "code",
   "execution_count": 8,
   "id": "f01163e5-6b08-42e9-9215-2c73f9cff5bd",
   "metadata": {},
   "outputs": [],
   "source": [
    "CO2_df = pd.read_csv('./energy-data-master/owid-co2-data.csv', sep=',')"
   ]
  },
  {
   "cell_type": "markdown",
   "id": "d92b66a0-469a-41f2-a987-449e8abdc61c",
   "metadata": {},
   "source": [
    "<span style=\"color:magenta; font-weight:bold\">1. Explore the OWID_Energy_Data base and decide which indicators I care about</span>"
   ]
  },
  {
   "cell_type": "code",
   "execution_count": 11,
   "id": "3512bba7-9072-491b-a8e4-7c713e0a9b92",
   "metadata": {},
   "outputs": [
    {
     "data": {
      "text/html": [
       "<div>\n",
       "<style scoped>\n",
       "    .dataframe tbody tr th:only-of-type {\n",
       "        vertical-align: middle;\n",
       "    }\n",
       "\n",
       "    .dataframe tbody tr th {\n",
       "        vertical-align: top;\n",
       "    }\n",
       "\n",
       "    .dataframe thead th {\n",
       "        text-align: right;\n",
       "    }\n",
       "</style>\n",
       "<table border=\"1\" class=\"dataframe\">\n",
       "  <thead>\n",
       "    <tr style=\"text-align: right;\">\n",
       "      <th></th>\n",
       "      <th>country</th>\n",
       "      <th>year</th>\n",
       "      <th>iso_code</th>\n",
       "      <th>population</th>\n",
       "      <th>gdp</th>\n",
       "      <th>biofuel_cons_change_pct</th>\n",
       "      <th>biofuel_cons_change_twh</th>\n",
       "      <th>biofuel_cons_per_capita</th>\n",
       "      <th>biofuel_consumption</th>\n",
       "      <th>biofuel_elec_per_capita</th>\n",
       "      <th>...</th>\n",
       "      <th>solar_share_elec</th>\n",
       "      <th>solar_share_energy</th>\n",
       "      <th>wind_cons_change_pct</th>\n",
       "      <th>wind_cons_change_twh</th>\n",
       "      <th>wind_consumption</th>\n",
       "      <th>wind_elec_per_capita</th>\n",
       "      <th>wind_electricity</th>\n",
       "      <th>wind_energy_per_capita</th>\n",
       "      <th>wind_share_elec</th>\n",
       "      <th>wind_share_energy</th>\n",
       "    </tr>\n",
       "  </thead>\n",
       "  <tbody>\n",
       "    <tr>\n",
       "      <th>0</th>\n",
       "      <td>ASEAN (Ember)</td>\n",
       "      <td>2000</td>\n",
       "      <td>NaN</td>\n",
       "      <td>NaN</td>\n",
       "      <td>NaN</td>\n",
       "      <td>NaN</td>\n",
       "      <td>NaN</td>\n",
       "      <td>NaN</td>\n",
       "      <td>NaN</td>\n",
       "      <td>NaN</td>\n",
       "      <td>...</td>\n",
       "      <td>0.0</td>\n",
       "      <td>NaN</td>\n",
       "      <td>NaN</td>\n",
       "      <td>NaN</td>\n",
       "      <td>NaN</td>\n",
       "      <td>NaN</td>\n",
       "      <td>0.0</td>\n",
       "      <td>NaN</td>\n",
       "      <td>0.0</td>\n",
       "      <td>NaN</td>\n",
       "    </tr>\n",
       "  </tbody>\n",
       "</table>\n",
       "<p>1 rows × 130 columns</p>\n",
       "</div>"
      ],
      "text/plain": [
       "         country  year iso_code  population  gdp  biofuel_cons_change_pct  \\\n",
       "0  ASEAN (Ember)  2000      NaN         NaN  NaN                      NaN   \n",
       "\n",
       "   biofuel_cons_change_twh  biofuel_cons_per_capita  biofuel_consumption  \\\n",
       "0                      NaN                      NaN                  NaN   \n",
       "\n",
       "   biofuel_elec_per_capita  ...  solar_share_elec  solar_share_energy  \\\n",
       "0                      NaN  ...               0.0                 NaN   \n",
       "\n",
       "   wind_cons_change_pct  wind_cons_change_twh  wind_consumption  \\\n",
       "0                   NaN                   NaN               NaN   \n",
       "\n",
       "   wind_elec_per_capita  wind_electricity  wind_energy_per_capita  \\\n",
       "0                   NaN               0.0                     NaN   \n",
       "\n",
       "   wind_share_elec  wind_share_energy  \n",
       "0              0.0                NaN  \n",
       "\n",
       "[1 rows x 130 columns]"
      ]
     },
     "execution_count": 11,
     "metadata": {},
     "output_type": "execute_result"
    }
   ],
   "source": [
    "energy_df.head(1)"
   ]
  },
  {
   "cell_type": "markdown",
   "id": "307a323b-e3a2-492d-b8fa-2ac46819d566",
   "metadata": {},
   "source": [
    "<span style=\"color:magenta; font-weight:bold\">1.1 Which indicators do I care about from the OWID_Energy Database? </span>"
   ]
  },
  {
   "cell_type": "markdown",
   "id": "66b6befe-12f3-405a-b3a0-3f3b872313bf",
   "metadata": {},
   "source": [
    "gdp = international -$ in 2011 prices \n",
    "\n",
    "\n",
    "fossil_fuel_consumption = terawatt-hours (coal, oil and natural gas)\n",
    "\n",
    "coal_consumption = terawatt-hours\n",
    "gas_consumption = terawatt-hours\n",
    "oil_consumption = terawatt-hours\n",
    "\n",
    "\n",
    "renewables_consumption = terawatt-hours  (solar,wind, hydropower, biofuels, other_renewable)\n",
    "low_carbon_consumption = terawatt-hours  (renewables + nuclear power, they produce less greenhouse-gas emissions than fossil fuels)\n",
    "\n",
    "solar_consumption = terawatt-hours\n",
    "wind_consumption = terawatt-hours\n",
    "hydro_consumption = terawatt-hours (from hydropower)\n",
    "biofuel_consumption = terawatt-hours\n",
    "other_renewable_consumption = terawatt-hours (geothermal, Tidal and wave energy, Advanced biomass)\n",
    "nuclear_consumption = terawatt-hours"
   ]
  },
  {
   "cell_type": "markdown",
   "id": "735e3ecd-0f8a-4b04-af66-def41208429f",
   "metadata": {},
   "source": [
    "<span style=\"color:magenta; font-weight:bold\">1.2Filter out the indicators I care about in the OWID_Energy database</span>"
   ]
  },
  {
   "cell_type": "code",
   "execution_count": 16,
   "id": "9e61a7a0-a293-4e8d-839d-0cf7e4163fe1",
   "metadata": {},
   "outputs": [
    {
     "data": {
      "text/html": [
       "<div>\n",
       "<style scoped>\n",
       "    .dataframe tbody tr th:only-of-type {\n",
       "        vertical-align: middle;\n",
       "    }\n",
       "\n",
       "    .dataframe tbody tr th {\n",
       "        vertical-align: top;\n",
       "    }\n",
       "\n",
       "    .dataframe thead th {\n",
       "        text-align: right;\n",
       "    }\n",
       "</style>\n",
       "<table border=\"1\" class=\"dataframe\">\n",
       "  <thead>\n",
       "    <tr style=\"text-align: right;\">\n",
       "      <th></th>\n",
       "      <th>country</th>\n",
       "      <th>year</th>\n",
       "      <th>population</th>\n",
       "      <th>fossil_fuel_consumption</th>\n",
       "      <th>coal_consumption</th>\n",
       "      <th>gas_consumption</th>\n",
       "      <th>oil_consumption</th>\n",
       "      <th>renewables_consumption</th>\n",
       "      <th>low_carbon_consumption</th>\n",
       "      <th>solar_consumption</th>\n",
       "      <th>wind_consumption</th>\n",
       "      <th>hydro_consumption</th>\n",
       "      <th>biofuel_consumption</th>\n",
       "      <th>other_renewable_consumption</th>\n",
       "      <th>nuclear_consumption</th>\n",
       "    </tr>\n",
       "  </thead>\n",
       "  <tbody>\n",
       "    <tr>\n",
       "      <th>0</th>\n",
       "      <td>ASEAN (Ember)</td>\n",
       "      <td>2000</td>\n",
       "      <td>NaN</td>\n",
       "      <td>NaN</td>\n",
       "      <td>NaN</td>\n",
       "      <td>NaN</td>\n",
       "      <td>NaN</td>\n",
       "      <td>NaN</td>\n",
       "      <td>NaN</td>\n",
       "      <td>NaN</td>\n",
       "      <td>NaN</td>\n",
       "      <td>NaN</td>\n",
       "      <td>NaN</td>\n",
       "      <td>NaN</td>\n",
       "      <td>NaN</td>\n",
       "    </tr>\n",
       "    <tr>\n",
       "      <th>1</th>\n",
       "      <td>ASEAN (Ember)</td>\n",
       "      <td>2001</td>\n",
       "      <td>NaN</td>\n",
       "      <td>NaN</td>\n",
       "      <td>NaN</td>\n",
       "      <td>NaN</td>\n",
       "      <td>NaN</td>\n",
       "      <td>NaN</td>\n",
       "      <td>NaN</td>\n",
       "      <td>NaN</td>\n",
       "      <td>NaN</td>\n",
       "      <td>NaN</td>\n",
       "      <td>NaN</td>\n",
       "      <td>NaN</td>\n",
       "      <td>NaN</td>\n",
       "    </tr>\n",
       "    <tr>\n",
       "      <th>2</th>\n",
       "      <td>ASEAN (Ember)</td>\n",
       "      <td>2002</td>\n",
       "      <td>NaN</td>\n",
       "      <td>NaN</td>\n",
       "      <td>NaN</td>\n",
       "      <td>NaN</td>\n",
       "      <td>NaN</td>\n",
       "      <td>NaN</td>\n",
       "      <td>NaN</td>\n",
       "      <td>NaN</td>\n",
       "      <td>NaN</td>\n",
       "      <td>NaN</td>\n",
       "      <td>NaN</td>\n",
       "      <td>NaN</td>\n",
       "      <td>NaN</td>\n",
       "    </tr>\n",
       "    <tr>\n",
       "      <th>3</th>\n",
       "      <td>ASEAN (Ember)</td>\n",
       "      <td>2003</td>\n",
       "      <td>NaN</td>\n",
       "      <td>NaN</td>\n",
       "      <td>NaN</td>\n",
       "      <td>NaN</td>\n",
       "      <td>NaN</td>\n",
       "      <td>NaN</td>\n",
       "      <td>NaN</td>\n",
       "      <td>NaN</td>\n",
       "      <td>NaN</td>\n",
       "      <td>NaN</td>\n",
       "      <td>NaN</td>\n",
       "      <td>NaN</td>\n",
       "      <td>NaN</td>\n",
       "    </tr>\n",
       "    <tr>\n",
       "      <th>4</th>\n",
       "      <td>ASEAN (Ember)</td>\n",
       "      <td>2004</td>\n",
       "      <td>NaN</td>\n",
       "      <td>NaN</td>\n",
       "      <td>NaN</td>\n",
       "      <td>NaN</td>\n",
       "      <td>NaN</td>\n",
       "      <td>NaN</td>\n",
       "      <td>NaN</td>\n",
       "      <td>NaN</td>\n",
       "      <td>NaN</td>\n",
       "      <td>NaN</td>\n",
       "      <td>NaN</td>\n",
       "      <td>NaN</td>\n",
       "      <td>NaN</td>\n",
       "    </tr>\n",
       "  </tbody>\n",
       "</table>\n",
       "</div>"
      ],
      "text/plain": [
       "         country  year  population  fossil_fuel_consumption  coal_consumption  \\\n",
       "0  ASEAN (Ember)  2000         NaN                      NaN               NaN   \n",
       "1  ASEAN (Ember)  2001         NaN                      NaN               NaN   \n",
       "2  ASEAN (Ember)  2002         NaN                      NaN               NaN   \n",
       "3  ASEAN (Ember)  2003         NaN                      NaN               NaN   \n",
       "4  ASEAN (Ember)  2004         NaN                      NaN               NaN   \n",
       "\n",
       "   gas_consumption  oil_consumption  renewables_consumption  \\\n",
       "0              NaN              NaN                     NaN   \n",
       "1              NaN              NaN                     NaN   \n",
       "2              NaN              NaN                     NaN   \n",
       "3              NaN              NaN                     NaN   \n",
       "4              NaN              NaN                     NaN   \n",
       "\n",
       "   low_carbon_consumption  solar_consumption  wind_consumption  \\\n",
       "0                     NaN                NaN               NaN   \n",
       "1                     NaN                NaN               NaN   \n",
       "2                     NaN                NaN               NaN   \n",
       "3                     NaN                NaN               NaN   \n",
       "4                     NaN                NaN               NaN   \n",
       "\n",
       "   hydro_consumption  biofuel_consumption  other_renewable_consumption  \\\n",
       "0                NaN                  NaN                          NaN   \n",
       "1                NaN                  NaN                          NaN   \n",
       "2                NaN                  NaN                          NaN   \n",
       "3                NaN                  NaN                          NaN   \n",
       "4                NaN                  NaN                          NaN   \n",
       "\n",
       "   nuclear_consumption  \n",
       "0                  NaN  \n",
       "1                  NaN  \n",
       "2                  NaN  \n",
       "3                  NaN  \n",
       "4                  NaN  "
      ]
     },
     "execution_count": 16,
     "metadata": {},
     "output_type": "execute_result"
    }
   ],
   "source": [
    "energy_df = energy_df[['country','year','population', 'fossil_fuel_consumption', 'coal_consumption','gas_consumption','oil_consumption','renewables_consumption','low_carbon_consumption','solar_consumption','wind_consumption','hydro_consumption','biofuel_consumption','other_renewable_consumption','nuclear_consumption']]\n",
    "energy_df.head()                       "
   ]
  },
  {
   "cell_type": "markdown",
   "id": "4b4486f1-2cac-41ca-bd0e-64d8d3076e2e",
   "metadata": {},
   "source": [
    "<span style=\"color:magenta; font-weight:bold\">2. Explore the OWID_CO2_Data base and decide which indicators I care about</span>"
   ]
  },
  {
   "cell_type": "code",
   "execution_count": 19,
   "id": "269ae105-733e-4f24-90d5-e1c5e9b00ad0",
   "metadata": {},
   "outputs": [
    {
     "data": {
      "text/html": [
       "<div>\n",
       "<style scoped>\n",
       "    .dataframe tbody tr th:only-of-type {\n",
       "        vertical-align: middle;\n",
       "    }\n",
       "\n",
       "    .dataframe tbody tr th {\n",
       "        vertical-align: top;\n",
       "    }\n",
       "\n",
       "    .dataframe thead th {\n",
       "        text-align: right;\n",
       "    }\n",
       "</style>\n",
       "<table border=\"1\" class=\"dataframe\">\n",
       "  <thead>\n",
       "    <tr style=\"text-align: right;\">\n",
       "      <th></th>\n",
       "      <th>country</th>\n",
       "      <th>year</th>\n",
       "      <th>iso_code</th>\n",
       "      <th>population</th>\n",
       "      <th>gdp</th>\n",
       "      <th>cement_co2</th>\n",
       "      <th>cement_co2_per_capita</th>\n",
       "      <th>co2</th>\n",
       "      <th>co2_growth_abs</th>\n",
       "      <th>co2_growth_prct</th>\n",
       "      <th>...</th>\n",
       "      <th>share_global_other_co2</th>\n",
       "      <th>share_of_temperature_change_from_ghg</th>\n",
       "      <th>temperature_change_from_ch4</th>\n",
       "      <th>temperature_change_from_co2</th>\n",
       "      <th>temperature_change_from_ghg</th>\n",
       "      <th>temperature_change_from_n2o</th>\n",
       "      <th>total_ghg</th>\n",
       "      <th>total_ghg_excluding_lucf</th>\n",
       "      <th>trade_co2</th>\n",
       "      <th>trade_co2_share</th>\n",
       "    </tr>\n",
       "  </thead>\n",
       "  <tbody>\n",
       "    <tr>\n",
       "      <th>0</th>\n",
       "      <td>Afghanistan</td>\n",
       "      <td>1850</td>\n",
       "      <td>AFG</td>\n",
       "      <td>3752993.0</td>\n",
       "      <td>NaN</td>\n",
       "      <td>NaN</td>\n",
       "      <td>NaN</td>\n",
       "      <td>NaN</td>\n",
       "      <td>NaN</td>\n",
       "      <td>NaN</td>\n",
       "      <td>...</td>\n",
       "      <td>NaN</td>\n",
       "      <td>NaN</td>\n",
       "      <td>NaN</td>\n",
       "      <td>NaN</td>\n",
       "      <td>NaN</td>\n",
       "      <td>NaN</td>\n",
       "      <td>NaN</td>\n",
       "      <td>NaN</td>\n",
       "      <td>NaN</td>\n",
       "      <td>NaN</td>\n",
       "    </tr>\n",
       "  </tbody>\n",
       "</table>\n",
       "<p>1 rows × 79 columns</p>\n",
       "</div>"
      ],
      "text/plain": [
       "       country  year iso_code  population  gdp  cement_co2  \\\n",
       "0  Afghanistan  1850      AFG   3752993.0  NaN         NaN   \n",
       "\n",
       "   cement_co2_per_capita  co2  co2_growth_abs  co2_growth_prct  ...  \\\n",
       "0                    NaN  NaN             NaN              NaN  ...   \n",
       "\n",
       "   share_global_other_co2  share_of_temperature_change_from_ghg  \\\n",
       "0                     NaN                                   NaN   \n",
       "\n",
       "   temperature_change_from_ch4  temperature_change_from_co2  \\\n",
       "0                          NaN                          NaN   \n",
       "\n",
       "   temperature_change_from_ghg  temperature_change_from_n2o  total_ghg  \\\n",
       "0                          NaN                          NaN        NaN   \n",
       "\n",
       "   total_ghg_excluding_lucf  trade_co2  trade_co2_share  \n",
       "0                       NaN        NaN              NaN  \n",
       "\n",
       "[1 rows x 79 columns]"
      ]
     },
     "execution_count": 19,
     "metadata": {},
     "output_type": "execute_result"
    }
   ],
   "source": [
    "CO2_df.head(1)"
   ]
  },
  {
   "cell_type": "markdown",
   "id": "5231df99-375a-40b4-9370-046dc94aab73",
   "metadata": {},
   "source": [
    "<span style=\"color:magenta; font-weight:bold\">2.1 Which indicators do I care about from the OWID_CO2 Database? </span>"
   ]
  },
  {
   "cell_type": "markdown",
   "id": "c4f169ef-3e18-48c4-b817-96527be4f50a",
   "metadata": {},
   "source": [
    "country\n",
    "year\n",
    "\n",
    "co2 = million tonnes\n",
    "\n",
    "co2_including_luc = million tonnes (including land use change and forestry)\n",
    "\n",
    "total_ghg_excluding_lucf = million tonnes \n",
    "total_ghg = million tonnes"
   ]
  },
  {
   "cell_type": "markdown",
   "id": "7979583a-505d-4c01-8bf6-76b373f186bf",
   "metadata": {},
   "source": [
    "<span style=\"color:magenta; font-weight:bold\">2.2Filter out the indicators I care about in the OWID_CO2 database</span>"
   ]
  },
  {
   "cell_type": "code",
   "execution_count": 25,
   "id": "d1a2fd7b-f7be-4e43-9a72-a4ba7eeba041",
   "metadata": {},
   "outputs": [
    {
     "data": {
      "text/html": [
       "<div>\n",
       "<style scoped>\n",
       "    .dataframe tbody tr th:only-of-type {\n",
       "        vertical-align: middle;\n",
       "    }\n",
       "\n",
       "    .dataframe tbody tr th {\n",
       "        vertical-align: top;\n",
       "    }\n",
       "\n",
       "    .dataframe thead th {\n",
       "        text-align: right;\n",
       "    }\n",
       "</style>\n",
       "<table border=\"1\" class=\"dataframe\">\n",
       "  <thead>\n",
       "    <tr style=\"text-align: right;\">\n",
       "      <th></th>\n",
       "      <th>country</th>\n",
       "      <th>year</th>\n",
       "      <th>co2</th>\n",
       "      <th>co2_including_luc</th>\n",
       "      <th>total_ghg_excluding_lucf</th>\n",
       "      <th>total_ghg</th>\n",
       "    </tr>\n",
       "  </thead>\n",
       "  <tbody>\n",
       "    <tr>\n",
       "      <th>0</th>\n",
       "      <td>Afghanistan</td>\n",
       "      <td>1850</td>\n",
       "      <td>NaN</td>\n",
       "      <td>NaN</td>\n",
       "      <td>NaN</td>\n",
       "      <td>NaN</td>\n",
       "    </tr>\n",
       "  </tbody>\n",
       "</table>\n",
       "</div>"
      ],
      "text/plain": [
       "       country  year  co2  co2_including_luc  total_ghg_excluding_lucf  \\\n",
       "0  Afghanistan  1850  NaN                NaN                       NaN   \n",
       "\n",
       "   total_ghg  \n",
       "0        NaN  "
      ]
     },
     "execution_count": 25,
     "metadata": {},
     "output_type": "execute_result"
    }
   ],
   "source": [
    "CO2_df = CO2_df[['country','year','co2','co2_including_luc', 'total_ghg_excluding_lucf', 'total_ghg']]\n",
    "CO2_df.head(1)  "
   ]
  },
  {
   "cell_type": "markdown",
   "id": "181b258b-cbf5-43b5-a14d-051980a01897",
   "metadata": {},
   "source": [
    "<span style=\"color:magenta; font-weight:bold\">3. Which unique countries do I have in both Data bases?</span>"
   ]
  },
  {
   "cell_type": "code",
   "execution_count": 28,
   "id": "1350ed15-e762-4d18-90ab-f7911d2d6382",
   "metadata": {},
   "outputs": [
    {
     "name": "stdout",
     "output_type": "stream",
     "text": [
      "EC_list has 294 countries\n",
      "CC_list has 261 countries\n"
     ]
    }
   ],
   "source": [
    "energy_countries = energy_df['country'].unique()\n",
    "energy_countries.sort()\n",
    "EC_list = energy_countries.tolist()\n",
    "EC_list\n",
    "print('EC_list has', len(EC_list), 'countries')\n",
    "\n",
    "CO2_countries = CO2_df['country'].unique()\n",
    "CO2_countries.sort()\n",
    "CC_list = CO2_countries.tolist()\n",
    "CC_list\n",
    "print('CC_list has', len(CC_list), 'countries')\n",
    "#len(CO2_countries)"
   ]
  },
  {
   "cell_type": "code",
   "execution_count": 30,
   "id": "fb99a70a-bdae-4b4b-812c-b32f239a838d",
   "metadata": {},
   "outputs": [],
   "source": [
    "common_list = []\n",
    "for i in CC_list:\n",
    "    if i in EC_list:\n",
    "        common_list.append(i)"
   ]
  },
  {
   "cell_type": "code",
   "execution_count": 32,
   "id": "cefc37cb-3173-43ff-a0b1-5ac4337d80a5",
   "metadata": {
    "scrolled": true
   },
   "outputs": [
    {
     "data": {
      "text/plain": [
       "219"
      ]
     },
     "execution_count": 32,
     "metadata": {},
     "output_type": "execute_result"
    }
   ],
   "source": [
    "common_list2 = common_list\n",
    "for i in EC_list:\n",
    "    if i in CC_list:\n",
    "        common_list2.append(i)\n",
    "common_list2 = list(set(common_list2))\n",
    "common_list2 = sorted(common_list2)\n",
    "len(common_list2)\n",
    "#common_list2\n"
   ]
  },
  {
   "cell_type": "markdown",
   "id": "48803494-e7ad-4a2b-873c-30a3742a22eb",
   "metadata": {},
   "source": [
    "<span style=\"color:magenta; font-weight:bold\">4. Keep the common countries in both databases </span>"
   ]
  },
  {
   "cell_type": "code",
   "execution_count": 35,
   "id": "67be60a8-b7f1-4044-a52a-bec7bb0322b1",
   "metadata": {},
   "outputs": [
    {
     "name": "stdout",
     "output_type": "stream",
     "text": [
      "219\n",
      "219\n"
     ]
    }
   ],
   "source": [
    "energy_df_2 = energy_df[energy_df['country'].isin(common_list2)]\n",
    "energy_df_2\n",
    "print(len(energy_df_2['country'].unique()))\n",
    "\n",
    "CO2_df_2 = CO2_df[CO2_df['country'].isin(common_list2)]\n",
    "CO2_df_2\n",
    "print(len(CO2_df_2['country'].unique()))\n"
   ]
  },
  {
   "cell_type": "markdown",
   "id": "dbdb874f-96c6-4928-b78b-d5adccf48a6a",
   "metadata": {},
   "source": [
    "<span style=\"color:magenta; font-weight:bold\">5. Merge both data frames </span>"
   ]
  },
  {
   "cell_type": "code",
   "execution_count": 383,
   "id": "9f249acd-d652-4e5d-9c7d-75057e904740",
   "metadata": {},
   "outputs": [
    {
     "data": {
      "text/html": [
       "<div>\n",
       "<style scoped>\n",
       "    .dataframe tbody tr th:only-of-type {\n",
       "        vertical-align: middle;\n",
       "    }\n",
       "\n",
       "    .dataframe tbody tr th {\n",
       "        vertical-align: top;\n",
       "    }\n",
       "\n",
       "    .dataframe thead th {\n",
       "        text-align: right;\n",
       "    }\n",
       "</style>\n",
       "<table border=\"1\" class=\"dataframe\">\n",
       "  <thead>\n",
       "    <tr style=\"text-align: right;\">\n",
       "      <th></th>\n",
       "      <th>country</th>\n",
       "      <th>population</th>\n",
       "      <th>population %</th>\n",
       "    </tr>\n",
       "  </thead>\n",
       "  <tbody>\n",
       "    <tr>\n",
       "      <th>245</th>\n",
       "      <td>Africa</td>\n",
       "      <td>1.426737e+09</td>\n",
       "      <td>17.889879</td>\n",
       "    </tr>\n",
       "    <tr>\n",
       "      <th>1013</th>\n",
       "      <td>Asia</td>\n",
       "      <td>4.721383e+09</td>\n",
       "      <td>59.201520</td>\n",
       "    </tr>\n",
       "    <tr>\n",
       "      <th>5435</th>\n",
       "      <td>Europe</td>\n",
       "      <td>7.448070e+08</td>\n",
       "      <td>9.339150</td>\n",
       "    </tr>\n",
       "    <tr>\n",
       "      <th>11590</th>\n",
       "      <td>North America</td>\n",
       "      <td>6.003237e+08</td>\n",
       "      <td>7.527470</td>\n",
       "    </tr>\n",
       "    <tr>\n",
       "      <th>11992</th>\n",
       "      <td>Oceania</td>\n",
       "      <td>4.503886e+07</td>\n",
       "      <td>0.564743</td>\n",
       "    </tr>\n",
       "    <tr>\n",
       "      <th>14279</th>\n",
       "      <td>South America</td>\n",
       "      <td>4.368167e+08</td>\n",
       "      <td>5.477253</td>\n",
       "    </tr>\n",
       "    <tr>\n",
       "      <th>17295</th>\n",
       "      <td>World</td>\n",
       "      <td>7.975105e+09</td>\n",
       "      <td>100.000000</td>\n",
       "    </tr>\n",
       "  </tbody>\n",
       "</table>\n",
       "</div>"
      ],
      "text/plain": [
       "             country    population  population %\n",
       "245           Africa  1.426737e+09     17.889879\n",
       "1013            Asia  4.721383e+09     59.201520\n",
       "5435          Europe  7.448070e+08      9.339150\n",
       "11590  North America  6.003237e+08      7.527470\n",
       "11992        Oceania  4.503886e+07      0.564743\n",
       "14279  South America  4.368167e+08      5.477253\n",
       "17295          World  7.975105e+09    100.000000"
      ]
     },
     "execution_count": 383,
     "metadata": {},
     "output_type": "execute_result"
    }
   ],
   "source": [
    "energy_CO2_df = pd.merge(energy_df_2, CO2_df_2, on=['country','year'], how='inner')\n",
    "energy_CO2_df\n",
    "Continents = ['Africa','Asia','North America', 'South America', 'Antarctica', 'Europe', 'Oceania','World']\n",
    "df = energy_CO2_df[energy_CO2_df['country'].isin(Continents)]\n",
    "\n",
    "\n",
    "df_World = df[df['country']=='World']\n",
    "df_Africa = df[df['country']=='Africa']\n",
    "df_Asia = df[df['country']=='Asia']\n",
    "df_North_America = df[df['country']=='North America']\n",
    "df_South_America = df[df['country']=='South America']\n",
    "df_Antarctica = df[df['country']=='Antarctica']\n",
    "df_Oceania = df[df['country']=='Oceania']\n",
    "df_Europe = df[df['country']=='Europe']\n",
    "\n",
    "population_2022_Continents = df[df['year']==2022][['country','population']]\n",
    "population_2022_Continents['population %'] = population_2022_Continents['population']/7.975105e+09*100\n",
    "population_2022_Continents \n",
    "#Which unique countries are there?\n",
    "#print(energy_CO2_df['country'].unique())"
   ]
  },
  {
   "cell_type": "code",
   "execution_count": 401,
   "id": "6eb8eaca-be71-4163-a7b3-9fe87a8d6805",
   "metadata": {},
   "outputs": [
    {
     "data": {
      "image/png": "[encoded data removed]",
      "text/plain": [
       "<Figure size 640x480 with 1 Axes>"
      ]
     },
     "metadata": {},
     "output_type": "display_data"
    }
   ],
   "source": [
    "plt.bar(population_2022_Continents['country'], population_2022_Continents['population %'])\n",
    "plt.xlabel('Continent')\n",
    "plt.xticks(fontsize=8)\n",
    "plt.ylabel('% Population')\n",
    "plt.title('World population')\n",
    "plt.grid()"
   ]
  },
  {
   "cell_type": "code",
   "execution_count": null,
   "id": "0c4b81cf-10ec-4c6b-b5a7-1d29b6695f0a",
   "metadata": {},
   "outputs": [],
   "source": []
  },
  {
   "cell_type": "markdown",
   "id": "d47a8a57-83fd-4d6c-8708-598833ba966c",
   "metadata": {},
   "source": [
    "<span style=\"color:magenta; font-weight:bold\">5. How do the world CO2 emmisions look during the years?</span>"
   ]
  },
  {
   "cell_type": "code",
   "execution_count": 375,
   "id": "d1e7168a-6d89-467f-a884-8ee9179ca8e2",
   "metadata": {},
   "outputs": [
    {
     "data": {
      "image/png": "[encoded data removed]",
      "text/plain": [
       "<Figure size 640x480 with 1 Axes>"
      ]
     },
     "metadata": {},
     "output_type": "display_data"
    }
   ],
   "source": [
    "plt.plot(df_World['year'].values, df_World['co2'].values, '--',label ='world')\n",
    "plt.plot(df_Africa['year'].values, df_Africa['co2'].values, label = 'Africa')\n",
    "plt.plot(df_Asia['year'].values, df_Asia['co2'].values, '--',label = 'Asia')\n",
    "plt.plot(df_North_America['year'].values, df_North_America['co2'].values, label='North America')\n",
    "plt.plot(df_South_America['year'].values, df_South_America['co2'].values,'--', label = 'South America')\n",
    "#plt.plot(df_Antarctica['year'].values, df_Antarctica['co2'].values, label = 'Antarctica')\n",
    "plt.plot(df_Oceania['year'].values, df_Oceania['co2'].values, label='Oceania')\n",
    "plt.plot(df_Europe['year'].values, df_Europe['co2'].values, '--', label = 'Europe')\n",
    "plt.grid()\n",
    "plt.xlabel('Year')\n",
    "plt.ylabel('CO2 emissions - million tonnes')\n",
    "plt.title('Continents CO2 emissions')\n",
    "\n",
    "legend = plt.legend(loc = 'upper left', \n",
    "                    shadow=True,\n",
    "                    prop={'weight':'roman','size':'small'})\n"
   ]
  },
  {
   "cell_type": "markdown",
   "id": "04bab6ea-245f-40f9-bfcc-3290219f0cf1",
   "metadata": {},
   "source": [
    "<span style=\"color:magenta; font-weight:bold\">6. How do Europe CO2 emmisions and energy look like since 1965 (no energy data before 1965)?</span>"
   ]
  },
  {
   "cell_type": "code",
   "execution_count": 575,
   "id": "766e1a5d-9b04-4264-962d-2781020989aa",
   "metadata": {},
   "outputs": [
    {
     "data": {
      "text/html": [
       "<div>\n",
       "<style scoped>\n",
       "    .dataframe tbody tr th:only-of-type {\n",
       "        vertical-align: middle;\n",
       "    }\n",
       "\n",
       "    .dataframe tbody tr th {\n",
       "        vertical-align: top;\n",
       "    }\n",
       "\n",
       "    .dataframe thead th {\n",
       "        text-align: right;\n",
       "    }\n",
       "</style>\n",
       "<table border=\"1\" class=\"dataframe\">\n",
       "  <thead>\n",
       "    <tr style=\"text-align: right;\">\n",
       "      <th></th>\n",
       "      <th>country</th>\n",
       "      <th>year</th>\n",
       "      <th>population</th>\n",
       "      <th>fossil_fuel_consumption</th>\n",
       "      <th>coal_consumption</th>\n",
       "      <th>gas_consumption</th>\n",
       "      <th>oil_consumption</th>\n",
       "      <th>renewables_consumption</th>\n",
       "      <th>low_carbon_consumption</th>\n",
       "      <th>solar_consumption</th>\n",
       "      <th>wind_consumption</th>\n",
       "      <th>hydro_consumption</th>\n",
       "      <th>biofuel_consumption</th>\n",
       "      <th>other_renewable_consumption</th>\n",
       "      <th>nuclear_consumption</th>\n",
       "      <th>co2</th>\n",
       "      <th>co2_including_luc</th>\n",
       "      <th>total_ghg_excluding_lucf</th>\n",
       "      <th>total_ghg</th>\n",
       "    </tr>\n",
       "  </thead>\n",
       "  <tbody>\n",
       "    <tr>\n",
       "      <th>5413</th>\n",
       "      <td>Europe</td>\n",
       "      <td>2000</td>\n",
       "      <td>727917165.0</td>\n",
       "      <td>25336.162</td>\n",
       "      <td>5587.135</td>\n",
       "      <td>9259.316</td>\n",
       "      <td>10489.71</td>\n",
       "      <td>2422.432</td>\n",
       "      <td>5768.725</td>\n",
       "      <td>0.22</td>\n",
       "      <td>66.273</td>\n",
       "      <td>2220.522</td>\n",
       "      <td>6.915</td>\n",
       "      <td>128.501</td>\n",
       "      <td>3346.293</td>\n",
       "      <td>6155.591</td>\n",
       "      <td>5941.879</td>\n",
       "      <td>7659.18</td>\n",
       "      <td>7063.08</td>\n",
       "    </tr>\n",
       "  </tbody>\n",
       "</table>\n",
       "</div>"
      ],
      "text/plain": [
       "     country  year   population  fossil_fuel_consumption  coal_consumption  \\\n",
       "5413  Europe  2000  727917165.0                25336.162          5587.135   \n",
       "\n",
       "      gas_consumption  oil_consumption  renewables_consumption  \\\n",
       "5413         9259.316         10489.71                2422.432   \n",
       "\n",
       "      low_carbon_consumption  solar_consumption  wind_consumption  \\\n",
       "5413                5768.725               0.22            66.273   \n",
       "\n",
       "      hydro_consumption  biofuel_consumption  other_renewable_consumption  \\\n",
       "5413           2220.522                6.915                      128.501   \n",
       "\n",
       "      nuclear_consumption       co2  co2_including_luc  \\\n",
       "5413             3346.293  6155.591           5941.879   \n",
       "\n",
       "      total_ghg_excluding_lucf  total_ghg  \n",
       "5413                   7659.18    7063.08  "
      ]
     },
     "execution_count": 575,
     "metadata": {},
     "output_type": "execute_result"
    }
   ],
   "source": [
    "years = list(range(2000,2024))\n",
    "df_Europe_recent = df_Europe[df_Europe['year'].isin(years)]\n",
    "\n",
    "df_Europe_recent.head(1)\n"
   ]
  },
  {
   "cell_type": "code",
   "execution_count": 577,
   "id": "b6956103-7072-4542-bc2f-720c7993508a",
   "metadata": {},
   "outputs": [
    {
     "data": {
      "text/plain": [
       "year                          -0.900038\n",
       "population                    -0.892948\n",
       "fossil_fuel_consumption        0.993628\n",
       "coal_consumption               0.949935\n",
       "gas_consumption                0.636561\n",
       "oil_consumption                0.929900\n",
       "renewables_consumption        -0.947646\n",
       "low_carbon_consumption        -0.918470\n",
       "solar_consumption             -0.949645\n",
       "wind_consumption              -0.939809\n",
       "hydro_consumption              0.084110\n",
       "biofuel_consumption           -0.852934\n",
       "other_renewable_consumption   -0.887394\n",
       "nuclear_consumption            0.952535\n",
       "co2                            1.000000\n",
       "co2_including_luc              0.915465\n",
       "total_ghg_excluding_lucf       0.993155\n",
       "total_ghg                      0.872928\n",
       "Name: co2, dtype: float64"
      ]
     },
     "execution_count": 577,
     "metadata": {},
     "output_type": "execute_result"
    }
   ],
   "source": [
    "num_df_Europe_recent = df_Europe_recent.select_dtypes(include=['number'])\n",
    "num_df_Europe_recent.corr()['co2']\n",
    "#df_Europe_recent.corr()"
   ]
  },
  {
   "cell_type": "code",
   "execution_count": null,
   "id": "bc4be354-963c-436a-8d89-f7f77e1bd608",
   "metadata": {},
   "outputs": [],
   "source": []
  },
  {
   "cell_type": "code",
   "execution_count": null,
   "id": "371ed189-3679-4d50-b116-0c35e6e5bef8",
   "metadata": {},
   "outputs": [],
   "source": []
  },
  {
   "cell_type": "code",
   "execution_count": 581,
   "id": "ea84e588-a181-4021-ae9f-c61bcd7ab85f",
   "metadata": {
    "scrolled": true
   },
   "outputs": [
    {
     "data": {
      "image/png": "[encoded data removed]",
      "text/plain": [
       "<Figure size 640x480 with 1 Axes>"
      ]
     },
     "metadata": {},
     "output_type": "display_data"
    }
   ],
   "source": [
    "#plt.plot(df_Europe_recent['year'].values, df_Europe_recent['co2'].values)\n",
    "#plt.plot(df_Europe_recent['year'].values, df_Europe_recent['total_ghg'].values)\n",
    "\n",
    "#plt.plot(df_Europe_recent['year'].values, df_Europe_recent['fossil_fuel_consumption'].values)\n",
    "plt.plot(df_Europe_recent['year'].values, df_Europe_recent['solar_consumption'].values, label = 'solar')\n",
    "plt.plot(df_Europe_recent['year'].values, df_Europe_recent['wind_consumption'].values, label = 'wind')\n",
    "plt.plot(df_Europe_recent['year'].values, df_Europe_recent['hydro_consumption'].values, label='hydro')\n",
    "plt.plot(df_Europe_recent['year'].values, df_Europe_recent['other_renewable_consumption'].values, label ='other_renewable')\n",
    "plt.plot(df_Europe_recent['year'].values, df_Europe_recent['nuclear_consumption'].values, label='nuclear')\n",
    "plt.plot(df_Europe_recent['year'].values, df_Europe_recent['biofuel_consumption'].values, label ='biofuel')\n",
    "plt.plot(df_Europe_recent['year'].values, df_Europe_recent['co2'].values, label ='co2')\n",
    "#plt.plot(df_Europe_recent['year'].values, df_Europe_recent['coal_consumption'].values, '--', label ='coal')\n",
    "#plt.plot(df_Europe_recent['year'].values, df_Europe_recent['gas_consumption'].values, '--',label ='gas')\n",
    "#plt.plot(df_Europe_recent['year'].values, df_Europe_recent['oil_consumption'].values, '--',label ='oil')\n",
    "\n",
    "legend = plt.legend(loc = 'center left', \n",
    "                    shadow=True,\n",
    "                    prop={'weight':'roman','size':'small'})\n",
    "\n",
    "\n",
    "#plt.plot(df_Europe_recent['year'].values, df_Europe_recent['low_carbon_consumption'].values)\n",
    "#plt.plot(df_Europe_recent['year'].values, df_Europe_recent['renewables_consumption'].values)\n",
    "\n",
    "plt.grid()\n",
    "\n",
    "#plt.xlim(left=-20)\n",
    "#plt.ylim(bottom=-2)\n",
    "#plt.axis([2000,2030, -2, 000])\n",
    "\n"
   ]
  },
  {
   "cell_type": "markdown",
   "id": "80451002-360d-466b-b12f-bdddd211b3c3",
   "metadata": {},
   "source": [
    "<span style=\"color:magenta; font-weight:bold\">7. Do a linear regresssion of facgtors that matter</span>"
   ]
  },
  {
   "cell_type": "markdown",
   "id": "c4424da3-6516-4c58-9319-dee553f15114",
   "metadata": {},
   "source": [
    "<span style=\"color:magenta; font-weight:bold\">7. Do a linear regresssion of facgtors that matter</span>"
   ]
  },
  {
   "cell_type": "code",
   "execution_count": 583,
   "id": "9f76cacd-a8dd-46ce-8f3c-6d44eccacd7f",
   "metadata": {},
   "outputs": [],
   "source": [
    "from sklearn.tree import DecisionTreeRegressor\n",
    "from sklearn.linear_model import LinearRegression\n",
    "from sklearn.model_selection import train_test_split\n",
    "from sklearn.metrics import mean_absolute_error, mean_squared_error, r2_score\n",
    "from math import sqrt\n",
    "#df_Europe_recent.columns\n",
    "#df_Europe_recent.head()\n",
    "df_Europe_recent.to_csv('ejempl.csv', index=False)"
   ]
  },
  {
   "cell_type": "code",
   "execution_count": 587,
   "id": "b9857890-e434-4c0e-b132-b73eaba16076",
   "metadata": {},
   "outputs": [
    {
     "data": {
      "text/plain": [
       "population                     False\n",
       "fossil_fuel_consumption        False\n",
       "coal_consumption               False\n",
       "gas_consumption                False\n",
       "oil_consumption                False\n",
       "solar_consumption              False\n",
       "wind_consumption               False\n",
       "hydro_consumption              False\n",
       "biofuel_consumption            False\n",
       "other_renewable_consumption    False\n",
       "nuclear_consumption            False\n",
       "co2                            False\n",
       "dtype: bool"
      ]
     },
     "execution_count": 587,
     "metadata": {},
     "output_type": "execute_result"
    }
   ],
   "source": [
    "df_Europe_IMP = df_Europe_recent[['population','fossil_fuel_consumption','coal_consumption', 'gas_consumption', 'oil_consumption', 'solar_consumption', 'wind_consumption', 'hydro_consumption', 'biofuel_consumption', 'other_renewable_consumption', 'nuclear_consumption', 'co2']]\n",
    "df_Europe_IMP.isnull().any()\n",
    "                                  "
   ]
  },
  {
   "cell_type": "markdown",
   "id": "9980aa4b-b36e-4c82-9a25-e6e69bb89beb",
   "metadata": {},
   "source": [
    "<span style=\"color:magenta; font-weight:bold\">7.1 Define features</span>"
   ]
  },
  {
   "cell_type": "code",
   "execution_count": 637,
   "id": "91acadc2-f8f9-4df9-9ce3-91e3ed06fb44",
   "metadata": {},
   "outputs": [
    {
     "data": {
      "text/plain": [
       "['fossil_fuel_consumption',\n",
       " 'solar_consumption',\n",
       " 'wind_consumption',\n",
       " 'hydro_consumption',\n",
       " 'biofuel_consumption',\n",
       " 'other_renewable_consumption',\n",
       " 'nuclear_consumption']"
      ]
     },
     "execution_count": 637,
     "metadata": {},
     "output_type": "execute_result"
    }
   ],
   "source": [
    "#features = ['coal_consumption', 'gas_consumption', 'oil_consumption', 'solar_consumption', 'wind_consumption', 'hydro_consumption', 'biofuel_consumption', 'other_renewable_consumption', 'nuclear_consumption']\n",
    "features = ['fossil_fuel_consumption','solar_consumption', 'wind_consumption', 'hydro_consumption', 'biofuel_consumption', 'other_renewable_consumption', 'nuclear_consumption']\n",
    "\n",
    "features"
   ]
  },
  {
   "cell_type": "markdown",
   "id": "86550e45-d741-4c12-aa89-2e7a19cee65f",
   "metadata": {},
   "source": [
    "<span style=\"color:magenta; font-weight:bold\">7.2 Specify pred target</span>"
   ]
  },
  {
   "cell_type": "code",
   "execution_count": 640,
   "id": "38b14268-5082-43d0-8dd6-6cdd243eb41d",
   "metadata": {},
   "outputs": [
    {
     "data": {
      "text/plain": [
       "['co2']"
      ]
     },
     "execution_count": 640,
     "metadata": {},
     "output_type": "execute_result"
    }
   ],
   "source": [
    "target = ['co2']\n",
    "target\n"
   ]
  },
  {
   "cell_type": "markdown",
   "id": "db401b7f-87c9-49bd-b525-9937d7722314",
   "metadata": {},
   "source": [
    "<span style=\"color:magenta; font-weight:bold\">7.3 Define df for X and y</span>"
   ]
  },
  {
   "cell_type": "code",
   "execution_count": 643,
   "id": "e215871c-4116-4ea4-8225-2a8a345beef4",
   "metadata": {},
   "outputs": [],
   "source": [
    "X = df_Europe_recent[features]\n",
    "y = df_Europe_recent[target]"
   ]
  },
  {
   "cell_type": "markdown",
   "id": "c59038b0-bd2e-4b3e-b7c6-c40f73db78fb",
   "metadata": {},
   "source": [
    "<span style=\"color:magenta; font-weight:bold\">7.4 Split</span>"
   ]
  },
  {
   "cell_type": "code",
   "execution_count": 646,
   "id": "be810a97-3f12-48cf-a93c-198b281cc031",
   "metadata": {},
   "outputs": [],
   "source": [
    "X_train, X_test, y_train, y_test = train_test_split(X, y, test_size=0.2, random_state=3)\n"
   ]
  },
  {
   "cell_type": "code",
   "execution_count": 648,
   "id": "bcb7e5e4-6ba3-41ed-9782-875e861c2a55",
   "metadata": {},
   "outputs": [
    {
     "data": {
      "text/html": [
       "<style>#sk-container-id-12 {\n",
       "  /* Definition of color scheme common for light and dark mode */\n",
       "  --sklearn-color-text: black;\n",
       "  --sklearn-color-line: gray;\n",
       "  /* Definition of color scheme for unfitted estimators */\n",
       "  --sklearn-color-unfitted-level-0: #fff5e6;\n",
       "  --sklearn-color-unfitted-level-1: #f6e4d2;\n",
       "  --sklearn-color-unfitted-level-2: #ffe0b3;\n",
       "  --sklearn-color-unfitted-level-3: chocolate;\n",
       "  /* Definition of color scheme for fitted estimators */\n",
       "  --sklearn-color-fitted-level-0: #f0f8ff;\n",
       "  --sklearn-color-fitted-level-1: #d4ebff;\n",
       "  --sklearn-color-fitted-level-2: #b3dbfd;\n",
       "  --sklearn-color-fitted-level-3: cornflowerblue;\n",
       "\n",
       "  /* Specific color for light theme */\n",
       "  --sklearn-color-text-on-default-background: var(--sg-text-color, var(--theme-code-foreground, var(--jp-content-font-color1, black)));\n",
       "  --sklearn-color-background: var(--sg-background-color, var(--theme-background, var(--jp-layout-color0, white)));\n",
       "  --sklearn-color-border-box: var(--sg-text-color, var(--theme-code-foreground, var(--jp-content-font-color1, black)));\n",
       "  --sklearn-color-icon: #696969;\n",
       "\n",
       "  @media (prefers-color-scheme: dark) {\n",
       "    /* Redefinition of color scheme for dark theme */\n",
       "    --sklearn-color-text-on-default-background: var(--sg-text-color, var(--theme-code-foreground, var(--jp-content-font-color1, white)));\n",
       "    --sklearn-color-background: var(--sg-background-color, var(--theme-background, var(--jp-layout-color0, #111)));\n",
       "    --sklearn-color-border-box: var(--sg-text-color, var(--theme-code-foreground, var(--jp-content-font-color1, white)));\n",
       "    --sklearn-color-icon: #878787;\n",
       "  }\n",
       "}\n",
       "\n",
       "#sk-container-id-12 {\n",
       "  color: var(--sklearn-color-text);\n",
       "}\n",
       "\n",
       "#sk-container-id-12 pre {\n",
       "  padding: 0;\n",
       "}\n",
       "\n",
       "#sk-container-id-12 input.sk-hidden--visually {\n",
       "  border: 0;\n",
       "  clip: rect(1px 1px 1px 1px);\n",
       "  clip: rect(1px, 1px, 1px, 1px);\n",
       "  height: 1px;\n",
       "  margin: -1px;\n",
       "  overflow: hidden;\n",
       "  padding: 0;\n",
       "  position: absolute;\n",
       "  width: 1px;\n",
       "}\n",
       "\n",
       "#sk-container-id-12 div.sk-dashed-wrapped {\n",
       "  border: 1px dashed var(--sklearn-color-line);\n",
       "  margin: 0 0.4em 0.5em 0.4em;\n",
       "  box-sizing: border-box;\n",
       "  padding-bottom: 0.4em;\n",
       "  background-color: var(--sklearn-color-background);\n",
       "}\n",
       "\n",
       "#sk-container-id-12 div.sk-container {\n",
       "  /* jupyter's `normalize.less` sets `[hidden] { display: none; }`\n",
       "     but bootstrap.min.css set `[hidden] { display: none !important; }`\n",
       "     so we also need the `!important` here to be able to override the\n",
       "     default hidden behavior on the sphinx rendered scikit-learn.org.\n",
       "     See: https://github.com/scikit-learn/scikit-learn/issues/21755 */\n",
       "  display: inline-block !important;\n",
       "  position: relative;\n",
       "}\n",
       "\n",
       "#sk-container-id-12 div.sk-text-repr-fallback {\n",
       "  display: none;\n",
       "}\n",
       "\n",
       "div.sk-parallel-item,\n",
       "div.sk-serial,\n",
       "div.sk-item {\n",
       "  /* draw centered vertical line to link estimators */\n",
       "  background-image: linear-gradient(var(--sklearn-color-text-on-default-background), var(--sklearn-color-text-on-default-background));\n",
       "  background-size: 2px 100%;\n",
       "  background-repeat: no-repeat;\n",
       "  background-position: center center;\n",
       "}\n",
       "\n",
       "/* Parallel-specific style estimator block */\n",
       "\n",
       "#sk-container-id-12 div.sk-parallel-item::after {\n",
       "  content: \"\";\n",
       "  width: 100%;\n",
       "  border-bottom: 2px solid var(--sklearn-color-text-on-default-background);\n",
       "  flex-grow: 1;\n",
       "}\n",
       "\n",
       "#sk-container-id-12 div.sk-parallel {\n",
       "  display: flex;\n",
       "  align-items: stretch;\n",
       "  justify-content: center;\n",
       "  background-color: var(--sklearn-color-background);\n",
       "  position: relative;\n",
       "}\n",
       "\n",
       "#sk-container-id-12 div.sk-parallel-item {\n",
       "  display: flex;\n",
       "  flex-direction: column;\n",
       "}\n",
       "\n",
       "#sk-container-id-12 div.sk-parallel-item:first-child::after {\n",
       "  align-self: flex-end;\n",
       "  width: 50%;\n",
       "}\n",
       "\n",
       "#sk-container-id-12 div.sk-parallel-item:last-child::after {\n",
       "  align-self: flex-start;\n",
       "  width: 50%;\n",
       "}\n",
       "\n",
       "#sk-container-id-12 div.sk-parallel-item:only-child::after {\n",
       "  width: 0;\n",
       "}\n",
       "\n",
       "/* Serial-specific style estimator block */\n",
       "\n",
       "#sk-container-id-12 div.sk-serial {\n",
       "  display: flex;\n",
       "  flex-direction: column;\n",
       "  align-items: center;\n",
       "  background-color: var(--sklearn-color-background);\n",
       "  padding-right: 1em;\n",
       "  padding-left: 1em;\n",
       "}\n",
       "\n",
       "\n",
       "/* Toggleable style: style used for estimator/Pipeline/ColumnTransformer box that is\n",
       "clickable and can be expanded/collapsed.\n",
       "- Pipeline and ColumnTransformer use this feature and define the default style\n",
       "- Estimators will overwrite some part of the style using the `sk-estimator` class\n",
       "*/\n",
       "\n",
       "/* Pipeline and ColumnTransformer style (default) */\n",
       "\n",
       "#sk-container-id-12 div.sk-toggleable {\n",
       "  /* Default theme specific background. It is overwritten whether we have a\n",
       "  specific estimator or a Pipeline/ColumnTransformer */\n",
       "  background-color: var(--sklearn-color-background);\n",
       "}\n",
       "\n",
       "/* Toggleable label */\n",
       "#sk-container-id-12 label.sk-toggleable__label {\n",
       "  cursor: pointer;\n",
       "  display: block;\n",
       "  width: 100%;\n",
       "  margin-bottom: 0;\n",
       "  padding: 0.5em;\n",
       "  box-sizing: border-box;\n",
       "  text-align: center;\n",
       "}\n",
       "\n",
       "#sk-container-id-12 label.sk-toggleable__label-arrow:before {\n",
       "  /* Arrow on the left of the label */\n",
       "  content: \"▸\";\n",
       "  float: left;\n",
       "  margin-right: 0.25em;\n",
       "  color: var(--sklearn-color-icon);\n",
       "}\n",
       "\n",
       "#sk-container-id-12 label.sk-toggleable__label-arrow:hover:before {\n",
       "  color: var(--sklearn-color-text);\n",
       "}\n",
       "\n",
       "/* Toggleable content - dropdown */\n",
       "\n",
       "#sk-container-id-12 div.sk-toggleable__content {\n",
       "  max-height: 0;\n",
       "  max-width: 0;\n",
       "  overflow: hidden;\n",
       "  text-align: left;\n",
       "  /* unfitted */\n",
       "  background-color: var(--sklearn-color-unfitted-level-0);\n",
       "}\n",
       "\n",
       "#sk-container-id-12 div.sk-toggleable__content.fitted {\n",
       "  /* fitted */\n",
       "  background-color: var(--sklearn-color-fitted-level-0);\n",
       "}\n",
       "\n",
       "#sk-container-id-12 div.sk-toggleable__content pre {\n",
       "  margin: 0.2em;\n",
       "  border-radius: 0.25em;\n",
       "  color: var(--sklearn-color-text);\n",
       "  /* unfitted */\n",
       "  background-color: var(--sklearn-color-unfitted-level-0);\n",
       "}\n",
       "\n",
       "#sk-container-id-12 div.sk-toggleable__content.fitted pre {\n",
       "  /* unfitted */\n",
       "  background-color: var(--sklearn-color-fitted-level-0);\n",
       "}\n",
       "\n",
       "#sk-container-id-12 input.sk-toggleable__control:checked~div.sk-toggleable__content {\n",
       "  /* Expand drop-down */\n",
       "  max-height: 200px;\n",
       "  max-width: 100%;\n",
       "  overflow: auto;\n",
       "}\n",
       "\n",
       "#sk-container-id-12 input.sk-toggleable__control:checked~label.sk-toggleable__label-arrow:before {\n",
       "  content: \"▾\";\n",
       "}\n",
       "\n",
       "/* Pipeline/ColumnTransformer-specific style */\n",
       "\n",
       "#sk-container-id-12 div.sk-label input.sk-toggleable__control:checked~label.sk-toggleable__label {\n",
       "  color: var(--sklearn-color-text);\n",
       "  background-color: var(--sklearn-color-unfitted-level-2);\n",
       "}\n",
       "\n",
       "#sk-container-id-12 div.sk-label.fitted input.sk-toggleable__control:checked~label.sk-toggleable__label {\n",
       "  background-color: var(--sklearn-color-fitted-level-2);\n",
       "}\n",
       "\n",
       "/* Estimator-specific style */\n",
       "\n",
       "/* Colorize estimator box */\n",
       "#sk-container-id-12 div.sk-estimator input.sk-toggleable__control:checked~label.sk-toggleable__label {\n",
       "  /* unfitted */\n",
       "  background-color: var(--sklearn-color-unfitted-level-2);\n",
       "}\n",
       "\n",
       "#sk-container-id-12 div.sk-estimator.fitted input.sk-toggleable__control:checked~label.sk-toggleable__label {\n",
       "  /* fitted */\n",
       "  background-color: var(--sklearn-color-fitted-level-2);\n",
       "}\n",
       "\n",
       "#sk-container-id-12 div.sk-label label.sk-toggleable__label,\n",
       "#sk-container-id-12 div.sk-label label {\n",
       "  /* The background is the default theme color */\n",
       "  color: var(--sklearn-color-text-on-default-background);\n",
       "}\n",
       "\n",
       "/* On hover, darken the color of the background */\n",
       "#sk-container-id-12 div.sk-label:hover label.sk-toggleable__label {\n",
       "  color: var(--sklearn-color-text);\n",
       "  background-color: var(--sklearn-color-unfitted-level-2);\n",
       "}\n",
       "\n",
       "/* Label box, darken color on hover, fitted */\n",
       "#sk-container-id-12 div.sk-label.fitted:hover label.sk-toggleable__label.fitted {\n",
       "  color: var(--sklearn-color-text);\n",
       "  background-color: var(--sklearn-color-fitted-level-2);\n",
       "}\n",
       "\n",
       "/* Estimator label */\n",
       "\n",
       "#sk-container-id-12 div.sk-label label {\n",
       "  font-family: monospace;\n",
       "  font-weight: bold;\n",
       "  display: inline-block;\n",
       "  line-height: 1.2em;\n",
       "}\n",
       "\n",
       "#sk-container-id-12 div.sk-label-container {\n",
       "  text-align: center;\n",
       "}\n",
       "\n",
       "/* Estimator-specific */\n",
       "#sk-container-id-12 div.sk-estimator {\n",
       "  font-family: monospace;\n",
       "  border: 1px dotted var(--sklearn-color-border-box);\n",
       "  border-radius: 0.25em;\n",
       "  box-sizing: border-box;\n",
       "  margin-bottom: 0.5em;\n",
       "  /* unfitted */\n",
       "  background-color: var(--sklearn-color-unfitted-level-0);\n",
       "}\n",
       "\n",
       "#sk-container-id-12 div.sk-estimator.fitted {\n",
       "  /* fitted */\n",
       "  background-color: var(--sklearn-color-fitted-level-0);\n",
       "}\n",
       "\n",
       "/* on hover */\n",
       "#sk-container-id-12 div.sk-estimator:hover {\n",
       "  /* unfitted */\n",
       "  background-color: var(--sklearn-color-unfitted-level-2);\n",
       "}\n",
       "\n",
       "#sk-container-id-12 div.sk-estimator.fitted:hover {\n",
       "  /* fitted */\n",
       "  background-color: var(--sklearn-color-fitted-level-2);\n",
       "}\n",
       "\n",
       "/* Specification for estimator info (e.g. \"i\" and \"?\") */\n",
       "\n",
       "/* Common style for \"i\" and \"?\" */\n",
       "\n",
       ".sk-estimator-doc-link,\n",
       "a:link.sk-estimator-doc-link,\n",
       "a:visited.sk-estimator-doc-link {\n",
       "  float: right;\n",
       "  font-size: smaller;\n",
       "  line-height: 1em;\n",
       "  font-family: monospace;\n",
       "  background-color: var(--sklearn-color-background);\n",
       "  border-radius: 1em;\n",
       "  height: 1em;\n",
       "  width: 1em;\n",
       "  text-decoration: none !important;\n",
       "  margin-left: 1ex;\n",
       "  /* unfitted */\n",
       "  border: var(--sklearn-color-unfitted-level-1) 1pt solid;\n",
       "  color: var(--sklearn-color-unfitted-level-1);\n",
       "}\n",
       "\n",
       ".sk-estimator-doc-link.fitted,\n",
       "a:link.sk-estimator-doc-link.fitted,\n",
       "a:visited.sk-estimator-doc-link.fitted {\n",
       "  /* fitted */\n",
       "  border: var(--sklearn-color-fitted-level-1) 1pt solid;\n",
       "  color: var(--sklearn-color-fitted-level-1);\n",
       "}\n",
       "\n",
       "/* On hover */\n",
       "div.sk-estimator:hover .sk-estimator-doc-link:hover,\n",
       ".sk-estimator-doc-link:hover,\n",
       "div.sk-label-container:hover .sk-estimator-doc-link:hover,\n",
       ".sk-estimator-doc-link:hover {\n",
       "  /* unfitted */\n",
       "  background-color: var(--sklearn-color-unfitted-level-3);\n",
       "  color: var(--sklearn-color-background);\n",
       "  text-decoration: none;\n",
       "}\n",
       "\n",
       "div.sk-estimator.fitted:hover .sk-estimator-doc-link.fitted:hover,\n",
       ".sk-estimator-doc-link.fitted:hover,\n",
       "div.sk-label-container:hover .sk-estimator-doc-link.fitted:hover,\n",
       ".sk-estimator-doc-link.fitted:hover {\n",
       "  /* fitted */\n",
       "  background-color: var(--sklearn-color-fitted-level-3);\n",
       "  color: var(--sklearn-color-background);\n",
       "  text-decoration: none;\n",
       "}\n",
       "\n",
       "/* Span, style for the box shown on hovering the info icon */\n",
       ".sk-estimator-doc-link span {\n",
       "  display: none;\n",
       "  z-index: 9999;\n",
       "  position: relative;\n",
       "  font-weight: normal;\n",
       "  right: .2ex;\n",
       "  padding: .5ex;\n",
       "  margin: .5ex;\n",
       "  width: min-content;\n",
       "  min-width: 20ex;\n",
       "  max-width: 50ex;\n",
       "  color: var(--sklearn-color-text);\n",
       "  box-shadow: 2pt 2pt 4pt #999;\n",
       "  /* unfitted */\n",
       "  background: var(--sklearn-color-unfitted-level-0);\n",
       "  border: .5pt solid var(--sklearn-color-unfitted-level-3);\n",
       "}\n",
       "\n",
       ".sk-estimator-doc-link.fitted span {\n",
       "  /* fitted */\n",
       "  background: var(--sklearn-color-fitted-level-0);\n",
       "  border: var(--sklearn-color-fitted-level-3);\n",
       "}\n",
       "\n",
       ".sk-estimator-doc-link:hover span {\n",
       "  display: block;\n",
       "}\n",
       "\n",
       "/* \"?\"-specific style due to the `<a>` HTML tag */\n",
       "\n",
       "#sk-container-id-12 a.estimator_doc_link {\n",
       "  float: right;\n",
       "  font-size: 1rem;\n",
       "  line-height: 1em;\n",
       "  font-family: monospace;\n",
       "  background-color: var(--sklearn-color-background);\n",
       "  border-radius: 1rem;\n",
       "  height: 1rem;\n",
       "  width: 1rem;\n",
       "  text-decoration: none;\n",
       "  /* unfitted */\n",
       "  color: var(--sklearn-color-unfitted-level-1);\n",
       "  border: var(--sklearn-color-unfitted-level-1) 1pt solid;\n",
       "}\n",
       "\n",
       "#sk-container-id-12 a.estimator_doc_link.fitted {\n",
       "  /* fitted */\n",
       "  border: var(--sklearn-color-fitted-level-1) 1pt solid;\n",
       "  color: var(--sklearn-color-fitted-level-1);\n",
       "}\n",
       "\n",
       "/* On hover */\n",
       "#sk-container-id-12 a.estimator_doc_link:hover {\n",
       "  /* unfitted */\n",
       "  background-color: var(--sklearn-color-unfitted-level-3);\n",
       "  color: var(--sklearn-color-background);\n",
       "  text-decoration: none;\n",
       "}\n",
       "\n",
       "#sk-container-id-12 a.estimator_doc_link.fitted:hover {\n",
       "  /* fitted */\n",
       "  background-color: var(--sklearn-color-fitted-level-3);\n",
       "}\n",
       "</style><div id=\"sk-container-id-12\" class=\"sk-top-container\"><div class=\"sk-text-repr-fallback\"><pre>LinearRegression()</pre><b>In a Jupyter environment, please rerun this cell to show the HTML representation or trust the notebook. <br />On GitHub, the HTML representation is unable to render, please try loading this page with nbviewer.org.</b></div><div class=\"sk-container\" hidden><div class=\"sk-item\"><div class=\"sk-estimator fitted sk-toggleable\"><input class=\"sk-toggleable__control sk-hidden--visually\" id=\"sk-estimator-id-12\" type=\"checkbox\" checked><label for=\"sk-estimator-id-12\" class=\"sk-toggleable__label fitted sk-toggleable__label-arrow fitted\">&nbsp;&nbsp;LinearRegression<a class=\"sk-estimator-doc-link fitted\" rel=\"noreferrer\" target=\"_blank\" href=\"https://scikit-learn.org/1.5/modules/generated/sklearn.linear_model.LinearRegression.html\">?<span>Documentation for LinearRegression</span></a><span class=\"sk-estimator-doc-link fitted\">i<span>Fitted</span></span></label><div class=\"sk-toggleable__content fitted\"><pre>LinearRegression()</pre></div> </div></div></div></div>"
      ],
      "text/plain": [
       "LinearRegression()"
      ]
     },
     "execution_count": 648,
     "metadata": {},
     "output_type": "execute_result"
    }
   ],
   "source": [
    "regressor = LinearRegression()\n",
    "regressor.fit(X_train, y_train)"
   ]
  },
  {
   "cell_type": "code",
   "execution_count": 650,
   "id": "a1411c86-5b45-4c5c-85ff-cda0b7c624bf",
   "metadata": {},
   "outputs": [
    {
     "data": {
      "text/html": [
       "<div>\n",
       "<style scoped>\n",
       "    .dataframe tbody tr th:only-of-type {\n",
       "        vertical-align: middle;\n",
       "    }\n",
       "\n",
       "    .dataframe tbody tr th {\n",
       "        vertical-align: top;\n",
       "    }\n",
       "\n",
       "    .dataframe thead th {\n",
       "        text-align: right;\n",
       "    }\n",
       "</style>\n",
       "<table border=\"1\" class=\"dataframe\">\n",
       "  <thead>\n",
       "    <tr style=\"text-align: right;\">\n",
       "      <th></th>\n",
       "      <th>co2</th>\n",
       "    </tr>\n",
       "  </thead>\n",
       "  <tbody>\n",
       "    <tr>\n",
       "      <th>5434</th>\n",
       "      <td>5310.309</td>\n",
       "    </tr>\n",
       "    <tr>\n",
       "      <th>5425</th>\n",
       "      <td>5999.425</td>\n",
       "    </tr>\n",
       "    <tr>\n",
       "      <th>5430</th>\n",
       "      <td>5638.487</td>\n",
       "    </tr>\n",
       "    <tr>\n",
       "      <th>5428</th>\n",
       "      <td>5614.495</td>\n",
       "    </tr>\n",
       "    <tr>\n",
       "      <th>5427</th>\n",
       "      <td>5614.210</td>\n",
       "    </tr>\n",
       "  </tbody>\n",
       "</table>\n",
       "</div>"
      ],
      "text/plain": [
       "           co2\n",
       "5434  5310.309\n",
       "5425  5999.425\n",
       "5430  5638.487\n",
       "5428  5614.495\n",
       "5427  5614.210"
      ]
     },
     "execution_count": 650,
     "metadata": {},
     "output_type": "execute_result"
    }
   ],
   "source": [
    "y_test"
   ]
  },
  {
   "cell_type": "code",
   "execution_count": null,
   "id": "dc0f4a15-dbaf-43bc-a917-0d8d10dabc33",
   "metadata": {},
   "outputs": [],
   "source": []
  },
  {
   "cell_type": "code",
   "execution_count": 652,
   "id": "d8a0cd67-744a-44a4-8fe8-257cefdcce1a",
   "metadata": {},
   "outputs": [
    {
     "data": {
      "text/plain": [
       "array([[5206.70271269],\n",
       "       [5935.83437484],\n",
       "       [5637.70371573],\n",
       "       [5525.15422156],\n",
       "       [5562.09971003]])"
      ]
     },
     "execution_count": 652,
     "metadata": {},
     "output_type": "execute_result"
    }
   ],
   "source": [
    "y_prediction = regressor.predict(X_test)\n",
    "y_prediction"
   ]
  },
  {
   "cell_type": "code",
   "execution_count": 654,
   "id": "4fd60dce-e11c-4ed7-be59-7867fe524124",
   "metadata": {},
   "outputs": [
    {
     "name": "stdout",
     "output_type": "stream",
     "text": [
      "['fossil_fuel_consumption', 'solar_consumption', 'wind_consumption', 'hydro_consumption', 'biofuel_consumption', 'other_renewable_consumption', 'nuclear_consumption']\n",
      "[[ 0.23799583 -0.24133032 -0.16252614 -0.00210605 -0.6881053   0.30028878\n",
      "  -0.07612325]]\n"
     ]
    }
   ],
   "source": [
    "coefficients = regressor.coef_\n",
    "print(features)\n",
    "print(coefficients)"
   ]
  },
  {
   "cell_type": "code",
   "execution_count": 656,
   "id": "181b9ce7-9a31-42b3-9909-311817dff06b",
   "metadata": {},
   "outputs": [
    {
     "name": "stdout",
     "output_type": "stream",
     "text": [
      "71.38053085529567\n"
     ]
    }
   ],
   "source": [
    "RMSE = sqrt(mean_squared_error(y_true = y_test, y_pred = y_prediction))\n",
    "print(RMSE)"
   ]
  },
  {
   "cell_type": "code",
   "execution_count": 658,
   "id": "7707ed86-4004-455b-9b93-f35aae8ed3f8",
   "metadata": {},
   "outputs": [
    {
     "data": {
      "text/plain": [
       "0.8934481451513782"
      ]
     },
     "execution_count": 658,
     "metadata": {},
     "output_type": "execute_result"
    }
   ],
   "source": [
    "r2 = r2_score(y_true = y_test, y_pred = y_prediction)\n",
    "r2\n"
   ]
  },
  {
   "cell_type": "code",
   "execution_count": 625,
   "id": "8c192b48-51be-4d2c-bbef-1448172128be",
   "metadata": {},
   "outputs": [
    {
     "name": "stdout",
     "output_type": "stream",
     "text": [
      "Coefficients:\n",
      "fossil_fuel_consumption: 0.26\n",
      "solar_consumption: -0.05\n",
      "wind_consumption: -0.10\n",
      "hydro_consumption: -0.05\n",
      "biofuel_consumption: -0.11\n",
      "nuclear_consumption: -0.05\n"
     ]
    }
   ],
   "source": [
    "import pandas as pd\n",
    "import numpy as np\n",
    "import cvxpy as cp\n",
    "from sklearn.model_selection import train_test_split\n",
    "\n",
    "# Features and Target\n",
    "features = ['fossil_fuel_consumption',\n",
    "            'solar_consumption', 'wind_consumption', 'hydro_consumption',\n",
    "            'biofuel_consumption', 'nuclear_consumption']\n",
    "target = ['co2']\n",
    "\n",
    "# Splitting Data\n",
    "X = df_Europe_recent[features].values\n",
    "y = df_Europe_recent[target].values.flatten()\n",
    "X_train, X_test, y_train, y_test = train_test_split(X, y, test_size=0.2)\n",
    "\n",
    "# Define Coefficients as Variables\n",
    "n_features = X_train.shape[1]\n",
    "coefficients = cp.Variable(n_features)\n",
    "\n",
    "# Define Objective (Minimize Mean Squared Error)\n",
    "objective = cp.Minimize(cp.sum_squares(X_train @ coefficients - y_train))\n",
    "\n",
    "# Define Constraints\n",
    "positive_features = ['fossil_fuel_consumption']\n",
    "negative_features = ['solar_consumption', 'wind_consumption', 'hydro_consumption',\n",
    "                     'biofuel_consumption', 'nuclear_consumption']\n",
    "\n",
    "constraints = []\n",
    "for i, feature in enumerate(features):\n",
    "    if feature in positive_features:\n",
    "        constraints.append(coefficients[i] >= 0)  # Positive Coefficients\n",
    "    elif feature in negative_features:\n",
    "        constraints.append(coefficients[i] <= -0.05)  # Negative Coefficients\n",
    "\n",
    "# Solve the Problem\n",
    "problem = cp.Problem(objective, constraints)\n",
    "problem.solve()\n",
    "\n",
    "# Display Results\n",
    "print(\"Coefficients:\")\n",
    "for feature, coef in zip(features, coefficients.value):\n",
    "    print(f\"{feature}: {coef:.2f}\")"
   ]
  },
  {
   "cell_type": "code",
   "execution_count": null,
   "id": "b2055395-aab6-46d1-9975-32c12c11581c",
   "metadata": {},
   "outputs": [],
   "source": []
  },
  {
   "cell_type": "code",
   "execution_count": 627,
   "id": "f5932a75-7971-43a5-a2a4-40f09d16acec",
   "metadata": {},
   "outputs": [
    {
     "data": {
      "text/plain": [
       "-3.0249764393554655"
      ]
     },
     "execution_count": 627,
     "metadata": {},
     "output_type": "execute_result"
    }
   ],
   "source": [
    "r2 = r2_score(y_true = y_test, y_pred = y_prediction)\n",
    "r2"
   ]
  },
  {
   "cell_type": "code",
   "execution_count": 939,
   "id": "eb7114a0-85e6-4714-a7aa-a2596342dc51",
   "metadata": {},
   "outputs": [
    {
     "name": "stdout",
     "output_type": "stream",
     "text": [
      "Collecting cvxpy\n",
      "  Downloading cvxpy-1.6.0-cp312-cp312-macosx_10_13_universal2.whl.metadata (9.2 kB)\n",
      "Collecting osqp>=0.6.2 (from cvxpy)\n",
      "  Downloading osqp-0.6.7.post3-cp312-cp312-macosx_11_0_arm64.whl.metadata (1.9 kB)\n",
      "Collecting clarabel>=0.5.0 (from cvxpy)\n",
      "  Downloading clarabel-0.9.0-cp37-abi3-macosx_10_12_x86_64.macosx_11_0_arm64.macosx_10_12_universal2.whl.metadata (4.8 kB)\n",
      "Collecting scs>=3.2.4.post1 (from cvxpy)\n",
      "  Downloading scs-3.2.7-cp312-cp312-macosx_11_0_arm64.whl.metadata (2.1 kB)\n",
      "Requirement already satisfied: numpy>=1.20 in /opt/anaconda3/lib/python3.12/site-packages (from cvxpy) (1.26.4)\n",
      "Requirement already satisfied: scipy>=1.1.0 in /opt/anaconda3/lib/python3.12/site-packages (from cvxpy) (1.13.1)\n",
      "Collecting qdldl (from osqp>=0.6.2->cvxpy)\n",
      "  Downloading qdldl-0.1.7.post4-cp312-cp312-macosx_11_0_arm64.whl.metadata (1.7 kB)\n",
      "Downloading cvxpy-1.6.0-cp312-cp312-macosx_10_13_universal2.whl (1.5 MB)\n",
      "\u001b[2K   \u001b[90m━━━━━━━━━━━━━━━━━━━━━━━━━━━━━━━━━━━━━━━━\u001b[0m \u001b[32m1.5/1.5 MB\u001b[0m \u001b[31m37.5 MB/s\u001b[0m eta \u001b[36m0:00:00\u001b[0m\n",
      "\u001b[?25hDownloading clarabel-0.9.0-cp37-abi3-macosx_10_12_x86_64.macosx_11_0_arm64.macosx_10_12_universal2.whl (1.7 MB)\n",
      "\u001b[2K   \u001b[90m━━━━━━━━━━━━━━━━━━━━━━━━━━━━━━━━━━━━━━━━\u001b[0m \u001b[32m1.7/1.7 MB\u001b[0m \u001b[31m34.2 MB/s\u001b[0m eta \u001b[36m0:00:00\u001b[0m\n",
      "\u001b[?25hDownloading osqp-0.6.7.post3-cp312-cp312-macosx_11_0_arm64.whl (237 kB)\n",
      "Downloading scs-3.2.7-cp312-cp312-macosx_11_0_arm64.whl (93 kB)\n",
      "Downloading qdldl-0.1.7.post4-cp312-cp312-macosx_11_0_arm64.whl (98 kB)\n",
      "Installing collected packages: scs, qdldl, clarabel, osqp, cvxpy\n",
      "Successfully installed clarabel-0.9.0 cvxpy-1.6.0 osqp-0.6.7.post3 qdldl-0.1.7.post4 scs-3.2.7\n",
      "Note: you may need to restart the kernel to use updated packages.\n"
     ]
    }
   ],
   "source": [
    "\n",
    "\n",
    "pip install cvxpy\n"
   ]
  }
 ],
 "metadata": {
  "kernelspec": {
   "display_name": "Python 3 (ipykernel)",
   "language": "python",
   "name": "python3"
  },
  "language_info": {
   "codemirror_mode": {
    "name": "ipython",
    "version": 3
   },
   "file_extension": ".py",
   "mimetype": "text/x-python",
   "name": "python",
   "nbconvert_exporter": "python",
   "pygments_lexer": "ipython3",
   "version": "3.12.2"
  }
 },
 "nbformat": 4,
 "nbformat_minor": 5
}
